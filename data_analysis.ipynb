{
 "cells": [
  {
   "cell_type": "code",
   "execution_count": 1,
   "metadata": {},
   "outputs": [],
   "source": [
    "#### How can you isolate (or group) the transactions of each cardholder?"
   ]
  },
  {
   "cell_type": "code",
   "execution_count": null,
   "metadata": {},
   "outputs": [],
   "source": [
    "SELECT count(transaction.id), credit_card.cardholder_id\n",
    "FROM \"transaction\"\n",
    "JOIN credit_card\n",
    "ON credit_card.card = transaction.card\n",
    "GROUP BY credit_card.cardholder_id;"
   ]
  },
  {
   "cell_type": "code",
   "execution_count": null,
   "metadata": {},
   "outputs": [],
   "source": [
    "#### Consider the time period 7:00 a.m. to 9:00 a.m.\n",
    "#### What are the top 100 highest transactions during this time period?\n",
    "#### Do you see any fraudulent or anomalous transactions?"
   ]
  },
  {
   "cell_type": "code",
   "execution_count": null,
   "metadata": {},
   "outputs": [],
   "source": [
    "SELECT *\n",
    "FROM transaction\n",
    "WHERE date_part('hour', date) BETWEEN 7 AND 9\n",
    "ORDER BY amount DESC\n",
    "LIMIT 100;\n",
    "\n",
    "# The top 2 transactions are fraudulent because the transaction amount does not make sense "
   ]
  },
  {
   "cell_type": "code",
   "execution_count": null,
   "metadata": {},
   "outputs": [],
   "source": [
    "#### Some fraudsters hack a credit card by making several small payments (generally less than $2.00), which are typically ignored by cardholders. Count the transactions that are less than $2.00 per cardholder. Is there any evidence to suggest that a credit card has been hacked? Explain your rationale."
   ]
  },
  {
   "cell_type": "code",
   "execution_count": null,
   "metadata": {},
   "outputs": [],
   "source": [
    "SELECT count(transaction.id) AS num_transactions, credit_card.cardholder_id\n",
    "FROM \"transaction\"\n",
    "JOIN credit_card\n",
    "ON credit_card.card = transaction.card\n",
    "WHERE amount < 2\n",
    "GROUP BY credit_card.cardholder_id\n",
    "ORDER BY \"num_transactions\" DESC;\n",
    "\n",
    "# Some card holders have more than 20 transactions less than 2 dollars, which is suspicious"
   ]
  },
  {
   "cell_type": "code",
   "execution_count": null,
   "metadata": {},
   "outputs": [],
   "source": [
    "#### What are the top 5 merchants prone to being hacked using small transactions?"
   ]
  },
  {
   "cell_type": "code",
   "execution_count": null,
   "metadata": {},
   "outputs": [],
   "source": [
    "SELECT count(transaction.id) AS transaction_num, transaction.card \n",
    "FROM \"transaction\"\n",
    "JOIN credit_card\n",
    "ON credit_card.card = transaction.card\n",
    "WHERE amount < 2\n",
    "GROUP BY transaction.card\n",
    "ORDER BY \"transaction_num\" DESC;"
   ]
  },
  {
   "cell_type": "code",
   "execution_count": null,
   "metadata": {},
   "outputs": [],
   "source": [
    "# It's \n",
    "\"Wood-Ramirez\"\n",
    "\"Hood-Phillips\"\n",
    "\"Baker Inc\"\n",
    "\"Mcdaniel, Hines and Mcfarland\"\n",
    "\"Hamilton-Mcfarland\""
   ]
  },
  {
   "cell_type": "code",
   "execution_count": null,
   "metadata": {},
   "outputs": [],
   "source": []
  }
 ],
 "metadata": {
  "kernelspec": {
   "display_name": "Python 3",
   "language": "python",
   "name": "python3"
  },
  "language_info": {
   "codemirror_mode": {
    "name": "ipython",
    "version": 3
   },
   "file_extension": ".py",
   "mimetype": "text/x-python",
   "name": "python",
   "nbconvert_exporter": "python",
   "pygments_lexer": "ipython3",
   "version": "3.7.3"
  }
 },
 "nbformat": 4,
 "nbformat_minor": 4
}
